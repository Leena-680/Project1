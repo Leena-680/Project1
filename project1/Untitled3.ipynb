{
 "cells": [
  {
   "cell_type": "code",
   "execution_count": 2,
   "id": "63a54cda",
   "metadata": {},
   "outputs": [],
   "source": [
    "import pandas as pd\n",
    "from pathlib import Path\n",
    "from geopy.distance import geodesic\n",
    "\n",
    "# Load your Uber rides data into a DataFrame\n",
    "df = pd.read_csv(\"Resources/uber.csv\")\n",
    "\n",
    "# Filter and clean the DataFrame\n",
    "df_filtered = df[(df['fare_amount'] >= 0) & \n",
    "                 (df['pickup_longitude'] != 0) & \n",
    "                 (df['pickup_latitude'] != 0) & \n",
    "                 (df['dropoff_longitude'] != 0) & \n",
    "                 (df['dropoff_latitude'] != 0) & \n",
    "                 (df['passenger_count'] != 0)]\n",
    "\n",
    "# Sort the DataFrame based on passenger_count\n",
    "df_sorted = df_filtered.sort_values(by='passenger_count')\n",
    "\n",
    "# Calculate road distance using geopy\n",
    "def calculate_distance(row):\n",
    "    pickup_latitude, pickup_longitude = row['pickup_latitude'], row['pickup_longitude']\n",
    "    dropoff_latitude, dropoff_longitude = row['dropoff_latitude'], row['dropoff_longitude']\n",
    "    \n",
    "    # Check for valid latitude values\n",
    "    if not (-90 <= pickup_latitude <= 90) or not (-90 <= dropoff_latitude <= 90):\n",
    "        return None  # Return None for rows with invalid latitude\n",
    "    \n",
    "    # Swap latitude and longitude to ensure correct order\n",
    "    pickup_coords = (pickup_latitude, pickup_longitude)\n",
    "    dropoff_coords = (dropoff_latitude, dropoff_longitude)\n",
    "    \n",
    "    # Calculate distance if latitude values are valid\n",
    "    distance = geodesic(pickup_coords, dropoff_coords).miles\n",
    "    \n",
    "    return distance\n",
    "\n",
    "df_sorted['road_distance'] = df_sorted.apply(calculate_distance, axis=1)\n",
    "\n",
    "# Drop the original 'key', 'pickup_datetime', and 'Unnamed: 0' columns\n",
    "df_sorted = df_sorted.drop(columns=['key', 'pickup_datetime', 'Unnamed: 0'])\n",
    "\n",
    "# Save the modified DataFrame to a new Excel file\n",
    "df_sorted.to_excel('uber_rides_distance_calculated_geopy.xlsx', index=False)"
   ]
  },
  {
   "cell_type": "code",
   "execution_count": null,
   "id": "6e1a31f1",
   "metadata": {},
   "outputs": [],
   "source": []
  }
 ],
 "metadata": {
  "kernelspec": {
   "display_name": "Python 3 (ipykernel)",
   "language": "python",
   "name": "python3"
  },
  "language_info": {
   "codemirror_mode": {
    "name": "ipython",
    "version": 3
   },
   "file_extension": ".py",
   "mimetype": "text/x-python",
   "name": "python",
   "nbconvert_exporter": "python",
   "pygments_lexer": "ipython3",
   "version": "3.11.5"
  }
 },
 "nbformat": 4,
 "nbformat_minor": 5
}
